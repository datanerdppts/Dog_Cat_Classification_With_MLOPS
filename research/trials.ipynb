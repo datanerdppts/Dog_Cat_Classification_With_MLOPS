{
 "cells": [
  {
   "cell_type": "code",
   "execution_count": 1,
   "id": "e2b3ca7a",
   "metadata": {},
   "outputs": [],
   "source": [
    "import pandas as pd"
   ]
  },
  {
   "cell_type": "code",
   "execution_count": 5,
   "id": "22d4b458",
   "metadata": {},
   "outputs": [],
   "source": [
    "import gdown\n",
    "\n",
    "\n",
    "def download_file(file_path):\n",
    "    gdown.download(file_path)\n"
   ]
  },
  {
   "cell_type": "code",
   "execution_count": 7,
   "id": "1ed117c0",
   "metadata": {},
   "outputs": [
    {
     "name": "stderr",
     "output_type": "stream",
     "text": [
      "Downloading...\n",
      "From (original): https://drive.google.com/uc?export=download&id=1ZCzxvAyS0rzPfl9XrJo5tddmSaoPgCcN\n",
      "From (redirected): https://drive.google.com/uc?export=download&id=1ZCzxvAyS0rzPfl9XrJo5tddmSaoPgCcN&confirm=t&uuid=836bed4c-b59a-47b1-8d78-886e969920a4\n",
      "To: e:\\ML_OPS\\Dog-Cat_Classification\\Dog_Cat_Classification_With_MLOPS\\research\\animals.zip\n",
      "100%|██████████| 377M/377M [00:38<00:00, 9.79MB/s] \n"
     ]
    }
   ],
   "source": [
    "download_file(\"https://drive.google.com/uc?export=download&id=1ZCzxvAyS0rzPfl9XrJo5tddmSaoPgCcN\")\n"
   ]
  },
  {
   "cell_type": "code",
   "execution_count": 8,
   "id": "6dc4362b",
   "metadata": {},
   "outputs": [],
   "source": [
    "import os\n",
    "\n",
    "os.makedirs(\"Artifacts\")"
   ]
  },
  {
   "cell_type": "code",
   "execution_count": 17,
   "id": "18fd70e7",
   "metadata": {},
   "outputs": [
    {
     "data": {
      "text/plain": [
       "'e:\\\\ML_OPS\\\\Dog-Cat_Classification\\\\Dog_Cat_Classification_With_MLOPS\\\\research'"
      ]
     },
     "execution_count": 17,
     "metadata": {},
     "output_type": "execute_result"
    }
   ],
   "source": [
    "pwd(\"../\")"
   ]
  },
  {
   "cell_type": "code",
   "execution_count": null,
   "id": "cf072f5b",
   "metadata": {},
   "outputs": [
    {
     "data": {
      "text/plain": [
       "'e:\\\\ML_OPS'"
      ]
     },
     "execution_count": 20,
     "metadata": {},
     "output_type": "execute_result"
    }
   ],
   "source": [
    "os.chdir('../')\n",
    "%pwd"
   ]
  },
  {
   "cell_type": "code",
   "execution_count": 22,
   "id": "6d81159e",
   "metadata": {},
   "outputs": [],
   "source": [
    "os.chdir(\"E:\\ML_OPS\\Dog-Cat_Classification\\Dog_Cat_Classification_With_MLOPS\")"
   ]
  },
  {
   "cell_type": "code",
   "execution_count": 25,
   "id": "bd9a19ae",
   "metadata": {},
   "outputs": [],
   "source": [
    "def create_file(file_path):\n",
    "    os.makedirs(file_path)\n",
    "    "
   ]
  },
  {
   "cell_type": "code",
   "execution_count": 26,
   "id": "cd0d5f2e",
   "metadata": {},
   "outputs": [],
   "source": [
    "create_file(\"Artifacts/data\")"
   ]
  },
  {
   "cell_type": "code",
   "execution_count": 53,
   "id": "e0d046f8",
   "metadata": {},
   "outputs": [],
   "source": [
    "# from src.cnnClassifier.exception import CustomException\n",
    "from src.cnnClassifier.logger import logging\n",
    "import yaml\n",
    "from box import ConfigBox\n",
    "import sys\n",
    "def load_yaml_file(file_path):\n",
    "    # try:\n",
    "    with open(file_path, \"r\") as file:\n",
    "        config = yaml.safe_load(file)\n",
    "        return ConfigBox(config)\n",
    "    # except Exception as e:\n",
    "    #     raise CustomException(e , sys)\n",
    "    "
   ]
  },
  {
   "cell_type": "code",
   "execution_count": 54,
   "id": "32852ac3",
   "metadata": {},
   "outputs": [],
   "source": [
    "k = load_yaml_file(\"E:\\ML_OPS\\Dog-Cat_Classification\\Dog_Cat_Classification_With_MLOPS\\config\\config.yaml\")"
   ]
  },
  {
   "cell_type": "code",
   "execution_count": 55,
   "id": "df902b20",
   "metadata": {},
   "outputs": [
    {
     "data": {
      "text/plain": [
       "ConfigBox({'Artifacts_root': 'Artifacts_root', 'data_ingestion': {'root_dir': 'Artifacts/data_ingestion', 'source_url': 'https://drive.google.com/uc?export=download&id=1ZCzxvAyS0rzPfl9XrJo5tddmSaoPgCcN', 'local_dir': 'Artifacts/data_ingestion/data.zip', 'unzip_dir': 'Artifacts/data_ingestion'}})"
      ]
     },
     "execution_count": 55,
     "metadata": {},
     "output_type": "execute_result"
    }
   ],
   "source": [
    "k"
   ]
  },
  {
   "cell_type": "code",
   "execution_count": 50,
   "id": "cd35ae3e",
   "metadata": {},
   "outputs": [
    {
     "data": {
      "text/plain": [
       "{'Artifacts_root': 'Artifacts_root',\n",
       " 'data_ingestion': {'root_dir': 'Artifacts/data_ingestion',\n",
       "  'source_url': 'https://drive.google.com/uc?export=download&id=1ZCzxvAyS0rzPfl9XrJo5tddmSaoPgCcN',\n",
       "  'local_dir': 'Artifacts/data_ingestion/data.zip',\n",
       "  'unzip_dir': 'Artifacts/data_ingestion'}}"
      ]
     },
     "execution_count": 50,
     "metadata": {},
     "output_type": "execute_result"
    }
   ],
   "source": [
    "k"
   ]
  },
  {
   "cell_type": "code",
   "execution_count": null,
   "id": "531898be",
   "metadata": {},
   "outputs": [
    {
     "data": {
      "text/plain": [
       "'Artifacts/data_ingestion'"
      ]
     },
     "execution_count": 57,
     "metadata": {},
     "output_type": "execute_result"
    }
   ],
   "source": []
  },
  {
   "cell_type": "code",
   "execution_count": null,
   "id": "7137af26",
   "metadata": {},
   "outputs": [],
   "source": []
  }
 ],
 "metadata": {
  "kernelspec": {
   "display_name": "Python 3",
   "language": "python",
   "name": "python3"
  },
  "language_info": {
   "codemirror_mode": {
    "name": "ipython",
    "version": 3
   },
   "file_extension": ".py",
   "mimetype": "text/x-python",
   "name": "python",
   "nbconvert_exporter": "python",
   "pygments_lexer": "ipython3",
   "version": "3.10.18"
  }
 },
 "nbformat": 4,
 "nbformat_minor": 5
}
